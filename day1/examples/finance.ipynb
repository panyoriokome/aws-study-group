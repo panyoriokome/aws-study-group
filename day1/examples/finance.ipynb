{
 "cells": [
  {
   "cell_type": "markdown",
   "metadata": {},
   "source": [
    "## Sample: 財務、金融の計算\n",
    "\n",
    "\n",
    "\n",
    "### Numpy\n",
    "Pythonでは大量のデータの処理や計算を実行するためのライブラリとして`Numpy`というものがあります。<BR>\n",
    "    \n",
    "このライブラリには金融の計算に使える機能もあるため、それを使ってライフプランニングチックなものをやっていきます。"
   ]
  },
  {
   "cell_type": "markdown",
   "metadata": {},
   "source": [
    "### 具体例1: 住宅ローンの支払額\n",
    "\n",
    "Numpyが提供している機能は色々ありますが、住宅ローンの支払額を簡単に求められる機能を提供しているので、それを使って月々のローンの支払額を求めていきます"
   ]
  },
  {
   "cell_type": "code",
   "execution_count": 33,
   "metadata": {},
   "outputs": [
    {
     "name": "stdout",
     "output_type": "stream",
     "text": [
      "月の支払額: 179971\n",
      "支払総額: 58991300\n"
     ]
    }
   ],
   "source": [
    "import numpy as np\n",
    "\n",
    "MONTHS_IN_YEAR = 12\n",
    "\n",
    "# 支払総額(家の購入代金)\n",
    "amount = 50000000\n",
    "# 頭金\n",
    "down_payment = 5000000\n",
    "# 支払期間\n",
    "duration = 25\n",
    "# 金利\n",
    "rate = 0.015\n",
    "\n",
    "monthly_pay = int(np.pmt(\n",
    "                    rate / MONTHS_IN_YEAR,\n",
    "                    MONTHS_IN_YEAR * duration,\n",
    "                    amount - down_payment)\n",
    "                 )\n",
    "total_amount = (monthly_pay * MONTHS_IN_YEAR * duration) - down_payment\n",
    "\n",
    "print('月の支払額:', -monthly_pay)\n",
    "print('支払総額:', -total_amount)"
   ]
  },
  {
   "cell_type": "markdown",
   "metadata": {},
   "source": [
    "### 具体例２: 月々の収支の計算(住宅ローンを踏まえて)\n",
    "\n",
    "\n",
    "年収が400万円と仮定して、ローン支払期間の余剰資金を計算してみたいと思います。\n",
    "ここでも`Numpy`の利点を活かすことができます。\n",
    "\n",
    "具体的にはPythonのListでは配列同士の数値演算は"
   ]
  },
  {
   "cell_type": "code",
   "execution_count": 56,
   "metadata": {},
   "outputs": [
    {
     "name": "stdout",
     "output_type": "stream",
     "text": [
      "-58991300\n"
     ]
    }
   ],
   "source": [
    "income = 4000000\n",
    "\n",
    "income_array = np.zeros(duration, dtype=np.int32)\n",
    "loan_array = np.zeros(duration, dtype=np.int32)\n",
    "\n",
    "income_array[:] = income\n",
    "loan_array[:duration] = monthly_pay * MONTHS_IN_YEAR\n",
    "loan_array[0] = loan_array[0] - down_payment\n",
    "\n",
    "print(loan_array.sum())"
   ]
  },
  {
   "cell_type": "code",
   "execution_count": 57,
   "metadata": {},
   "outputs": [
    {
     "data": {
      "text/plain": [
       "array([4000000, 4000000, 4000000, 4000000, 4000000, 4000000, 4000000,\n",
       "       4000000, 4000000, 4000000, 4000000, 4000000, 4000000, 4000000,\n",
       "       4000000, 4000000, 4000000, 4000000, 4000000, 4000000, 4000000,\n",
       "       4000000, 4000000, 4000000, 4000000], dtype=int32)"
      ]
     },
     "execution_count": 57,
     "metadata": {},
     "output_type": "execute_result"
    }
   ],
   "source": [
    "income_array"
   ]
  },
  {
   "cell_type": "code",
   "execution_count": 58,
   "metadata": {},
   "outputs": [
    {
     "data": {
      "text/plain": [
       "array([-7159652, -2159652, -2159652, -2159652, -2159652, -2159652,\n",
       "       -2159652, -2159652, -2159652, -2159652, -2159652, -2159652,\n",
       "       -2159652, -2159652, -2159652, -2159652, -2159652, -2159652,\n",
       "       -2159652, -2159652, -2159652, -2159652, -2159652, -2159652,\n",
       "       -2159652], dtype=int32)"
      ]
     },
     "execution_count": 58,
     "metadata": {},
     "output_type": "execute_result"
    }
   ],
   "source": [
    "loan_array"
   ]
  },
  {
   "cell_type": "markdown",
   "metadata": {},
   "source": [
    "#### Listの場合\n",
    "\n",
    "List同士の演算は要素の連結になり、今回求めているような年ごとの収支計算はできない。"
   ]
  },
  {
   "cell_type": "code",
   "execution_count": 65,
   "metadata": {},
   "outputs": [
    {
     "data": {
      "text/plain": [
       "[4000000, 4000000, -7159652, -2159652]"
      ]
     },
     "execution_count": 65,
     "metadata": {},
     "output_type": "execute_result"
    }
   ],
   "source": [
    "list_a = [4000000, 4000000]\n",
    "list_b = [-7159652, -2159652]\n",
    "list_a + list_b"
   ]
  },
  {
   "cell_type": "markdown",
   "metadata": {},
   "source": [
    "#### Numpyの場合\n",
    "\n",
    "配列の要素数が同じであれば対応するインデックスごとの計算を自動で行ってくれるため、単純に足し算をするだけで年ごとの収支を計算することができる。"
   ]
  },
  {
   "cell_type": "code",
   "execution_count": 59,
   "metadata": {},
   "outputs": [
    {
     "data": {
      "text/plain": [
       "array([-3159652,  1840348,  1840348,  1840348,  1840348,  1840348,\n",
       "        1840348,  1840348,  1840348,  1840348,  1840348,  1840348,\n",
       "        1840348,  1840348,  1840348,  1840348,  1840348,  1840348,\n",
       "        1840348,  1840348,  1840348,  1840348,  1840348,  1840348,\n",
       "        1840348], dtype=int32)"
      ]
     },
     "execution_count": 59,
     "metadata": {},
     "output_type": "execute_result"
    }
   ],
   "source": [
    "income_array + loan_array"
   ]
  },
  {
   "cell_type": "markdown",
   "metadata": {},
   "source": [
    "#### その他の機能\n",
    "`Numpy`はその他にも計算に使える便利な機能を提供しており、以下は`cumusum()`メソッド(累積和の機能を提供)を使うことで年ごとの収支をもとに累積の残高を計算している。"
   ]
  },
  {
   "cell_type": "code",
   "execution_count": 60,
   "metadata": {},
   "outputs": [
    {
     "data": {
      "text/plain": [
       "array([-3159652, -1319304,   521044,  2361392,  4201740,  6042088,\n",
       "        7882436,  9722784, 11563132, 13403480, 15243828, 17084176,\n",
       "       18924524, 20764872, 22605220, 24445568, 26285916, 28126264,\n",
       "       29966612, 31806960, 33647308, 35487656, 37328004, 39168352,\n",
       "       41008700])"
      ]
     },
     "execution_count": 60,
     "metadata": {},
     "output_type": "execute_result"
    }
   ],
   "source": [
    "np.cumsum(income_array + loan_array)"
   ]
  },
  {
   "cell_type": "markdown",
   "metadata": {},
   "source": [
    "ここで取り扱ったのは非常に単純化した収支の計算だったので計算結果にあまり意味はないかもしれませんが、<BR>\n",
    "もっとたくさんの条件(例えば生活費とか子供の教育費とか)を追加することでシミュレーションとして有益な物を作ることもできると思います。\n",
    "    \n",
    "その場合にも`Numpy`の利点を活かせば、計算対象が増えたとしても単純な計算で収支の計算ができます。"
   ]
  },
  {
   "cell_type": "code",
   "execution_count": null,
   "metadata": {},
   "outputs": [],
   "source": []
  },
  {
   "cell_type": "code",
   "execution_count": null,
   "metadata": {},
   "outputs": [],
   "source": []
  }
 ],
 "metadata": {
  "kernelspec": {
   "display_name": "Python 3",
   "language": "python",
   "name": "python3"
  },
  "language_info": {
   "codemirror_mode": {
    "name": "ipython",
    "version": 3
   },
   "file_extension": ".py",
   "mimetype": "text/x-python",
   "name": "python",
   "nbconvert_exporter": "python",
   "pygments_lexer": "ipython3",
   "version": "3.7.2"
  }
 },
 "nbformat": 4,
 "nbformat_minor": 2
}
