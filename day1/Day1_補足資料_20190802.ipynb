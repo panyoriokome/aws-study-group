{
 "cells": [
  {
   "cell_type": "markdown",
   "metadata": {},
   "source": [
    "### DictionaryのループとListへの要素追加\n",
    "「これなにやっているかわからない」となったら、自分で単純化したデータを定義して色々いじってみると色々と解ると思います。\n",
    "\n",
    "データの中身は何でも良いので、できるだけ少ないデータ数で実際に動かしてみましょう。"
   ]
  },
  {
   "cell_type": "code",
   "execution_count": 7,
   "metadata": {},
   "outputs": [],
   "source": [
    "data_dict = {\n",
    "    \"201907\": \"1000\", \n",
    "    \"201908\":\"1100\"\n",
    "}"
   ]
  },
  {
   "cell_type": "code",
   "execution_count": 8,
   "metadata": {},
   "outputs": [
    {
     "name": "stdout",
     "output_type": "stream",
     "text": [
      "201907\n",
      "201908\n"
     ]
    }
   ],
   "source": [
    "for data in data_dict:\n",
    "    print(data)"
   ]
  },
  {
   "cell_type": "code",
   "execution_count": 9,
   "metadata": {},
   "outputs": [
    {
     "name": "stdout",
     "output_type": "stream",
     "text": [
      "201907\n",
      "201908\n"
     ]
    }
   ],
   "source": [
    "for data in data_dict.keys():\n",
    "    print(data)"
   ]
  },
  {
   "cell_type": "code",
   "execution_count": 10,
   "metadata": {},
   "outputs": [
    {
     "name": "stdout",
     "output_type": "stream",
     "text": [
      "1000\n",
      "1100\n"
     ]
    }
   ],
   "source": [
    "for data in data_dict.values():\n",
    "    print(data)"
   ]
  },
  {
   "cell_type": "code",
   "execution_count": 11,
   "metadata": {},
   "outputs": [],
   "source": [
    "prices = []\n",
    "for key, value in data_dict.items():\n",
    "    prices.append(value)"
   ]
  },
  {
   "cell_type": "code",
   "execution_count": 12,
   "metadata": {},
   "outputs": [
    {
     "data": {
      "text/plain": [
       "['1000', '1100']"
      ]
     },
     "execution_count": 12,
     "metadata": {},
     "output_type": "execute_result"
    }
   ],
   "source": [
    "prices"
   ]
  },
  {
   "cell_type": "markdown",
   "metadata": {},
   "source": [
    "### 複雑なデータ構造のとき\n",
    "同様にデータ構造が複雑でどうなっているのかわからないとなったら、自分で簡単なデータを定義した上で順番にprintでデータとデータの型を出力するといいです"
   ]
  },
  {
   "cell_type": "code",
   "execution_count": 13,
   "metadata": {},
   "outputs": [],
   "source": [
    "sample_dict = {\n",
    "    'data': [\n",
    "        {'201907': '1000'},\n",
    "        {'201908': '1100'},\n",
    "    ]\n",
    "}"
   ]
  },
  {
   "cell_type": "code",
   "execution_count": 15,
   "metadata": {},
   "outputs": [
    {
     "name": "stdout",
     "output_type": "stream",
     "text": [
      "{'data': [{'201907': '1000'}, {'201908': '1100'}]}\n",
      "<class 'dict'>\n"
     ]
    }
   ],
   "source": [
    "print(sample_dict)\n",
    "print(type(sample_dict))"
   ]
  },
  {
   "cell_type": "code",
   "execution_count": 17,
   "metadata": {},
   "outputs": [
    {
     "name": "stdout",
     "output_type": "stream",
     "text": [
      "[{'201907': '1000'}, {'201908': '1100'}]\n",
      "<class 'list'>\n"
     ]
    }
   ],
   "source": [
    "print(sample_dict['data'])\n",
    "print(type(sample_dict['data']))"
   ]
  },
  {
   "cell_type": "code",
   "execution_count": 18,
   "metadata": {},
   "outputs": [
    {
     "name": "stdout",
     "output_type": "stream",
     "text": [
      "{'201907': '1000'}\n",
      "<class 'dict'>\n"
     ]
    }
   ],
   "source": [
    "print(sample_dict['data'][0])\n",
    "print(type(sample_dict['data'][0]))"
   ]
  },
  {
   "cell_type": "code",
   "execution_count": 19,
   "metadata": {},
   "outputs": [
    {
     "name": "stdout",
     "output_type": "stream",
     "text": [
      "1000\n",
      "<class 'str'>\n"
     ]
    }
   ],
   "source": [
    "print(sample_dict['data'][0]['201907'])\n",
    "print(type(sample_dict['data'][0]['201907']))"
   ]
  }
 ],
 "metadata": {
  "kernelspec": {
   "display_name": "Python 3",
   "language": "python",
   "name": "python3"
  },
  "language_info": {
   "codemirror_mode": {
    "name": "ipython",
    "version": 3
   },
   "file_extension": ".py",
   "mimetype": "text/x-python",
   "name": "python",
   "nbconvert_exporter": "python",
   "pygments_lexer": "ipython3",
   "version": "3.6.6"
  }
 },
 "nbformat": 4,
 "nbformat_minor": 2
}
