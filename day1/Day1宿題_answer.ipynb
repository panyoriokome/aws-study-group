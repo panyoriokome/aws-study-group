{
 "cells": [
  {
   "cell_type": "markdown",
   "metadata": {},
   "source": [
    "## 宿題 解答例"
   ]
  },
  {
   "cell_type": "code",
   "execution_count": 10,
   "metadata": {},
   "outputs": [],
   "source": [
    "data = \"\"\"{\n",
    "    \"date\": \"2019-07-29T19:30:03.283Z\",\n",
    "    \"results\": [\n",
    "        {\n",
    "            \"title\": \"Stranger Things\",\n",
    "            \"broadcasted_on\": \"Netflix\",\n",
    "            \"num_of_seasons\": 3,\n",
    "            \"Type\": \"Drama\",\n",
    "            \"rate\": 7\n",
    "        },\n",
    "        {\n",
    "            \"title\": \"勝手にふるえてろ\",\n",
    "            \"broadcasted_on\": \"Hulu\",\n",
    "            \"num_of_seasons\": null,\n",
    "            \"Type\": \"Movie\",\n",
    "            \"rate\": 8\n",
    "        },\n",
    "        {\n",
    "            \"title\": \"Master of Zero\",\n",
    "            \"broadcasted_on\": \"Netflix\",\n",
    "            \"num_of_seasons\": 5,\n",
    "            \"Type\": \"Drama\",\n",
    "            \"rate\": 9\n",
    "        },\n",
    "        {\n",
    "            \"title\": \"La La Land\",\n",
    "            \"broadcasted_on\": \"Netflix\",\n",
    "            \"num_of_seasons\": null,\n",
    "            \"Type\": \"Movie\",\n",
    "            \"rate\": 8\n",
    "        },\n",
    "        {\n",
    "            \"title\": \"あいのり\",\n",
    "            \"broadcasted_on\": \"Netflix\",\n",
    "            \"num_of_seasons\": 5,\n",
    "            \"Type\": \"Drama\",\n",
    "            \"rate\": 6\n",
    "        },\n",
    "        {\n",
    "            \"title\": \"Game of Thrones\",\n",
    "            \"broadcasted_on\": \"Hulu\",\n",
    "            \"num_of_seasons\": 8,\n",
    "            \"Type\": \"Drama\",\n",
    "            \"rate\": 9\n",
    "        }\n",
    "    ]\n",
    "}\n",
    "\"\"\""
   ]
  },
  {
   "cell_type": "markdown",
   "metadata": {},
   "source": [
    "### 問題1\n",
    "- Netflixで放映されている番組のみ、タイトルを表示してください。"
   ]
  },
  {
   "cell_type": "code",
   "execution_count": 14,
   "metadata": {},
   "outputs": [
    {
     "name": "stdout",
     "output_type": "stream",
     "text": [
      "Stranger Things\n",
      "Master of Zero\n",
      "La La Land\n",
      "あいのり\n"
     ]
    }
   ],
   "source": [
    "import json\n",
    "\n",
    "data_dict = json.loads(data)\n",
    "\n",
    "for program in data_dict['results']:\n",
    "    if program['broadcasted_on'] == 'Netflix':\n",
    "        print(program['title'])"
   ]
  },
  {
   "cell_type": "markdown",
   "metadata": {},
   "source": [
    "#### 解答例の解説\n",
    "答えにたどり着くためには以下の操作が必要でした。  \n",
    "\n",
    "- 文字列(str)をDictionary形式に変換\n",
    "- Dictionaryの要素にキーを指定してアクセス\n",
    "- Listを対象にfor loopで繰り返し処理\n",
    "- ifを使って条件分岐\n",
    "\n",
    "どれもプログラムを作る上で頻繁に使う知識ですので、よく理解できなかった場合にはぜひ復習してみてください。"
   ]
  },
  {
   "cell_type": "markdown",
   "metadata": {},
   "source": [
    "### 問題2\n",
    "- 1.の結果をList形式で表示してください。\n"
   ]
  },
  {
   "cell_type": "code",
   "execution_count": 15,
   "metadata": {},
   "outputs": [
    {
     "name": "stdout",
     "output_type": "stream",
     "text": [
      "['Stranger Things', 'Master of Zero', 'La La Land', 'あいのり']\n"
     ]
    }
   ],
   "source": [
    "import json\n",
    "\n",
    "data_dict = json.loads(data)\n",
    "\n",
    "programs = []\n",
    "for program in data_dict['results']:\n",
    "    if program['broadcasted_on'] == 'Netflix':\n",
    "        programs.append(program['title'])\n",
    "print(programs)"
   ]
  },
  {
   "cell_type": "markdown",
   "metadata": {},
   "source": [
    "#### 解答例の解説\n",
    "1の解答に加えてListに要素を追加する必要がありました。  \n",
    "今回の答えのように同じ種類のデータをまとめて保存する上でListは非常に便利なデータ形式です。"
   ]
  },
  {
   "cell_type": "markdown",
   "metadata": {},
   "source": [
    "### 問題3\n",
    "- resultsのバリューに番組の情報をひとつ追加して、その番組を含むすべての情報を表示してください。追加する番組は架空でも実在でも構いませんが、既存の情報と同じ項目(title, broadcasted_on, num_of_seasons, type, rate)を持たせてください。"
   ]
  },
  {
   "cell_type": "code",
   "execution_count": 12,
   "metadata": {},
   "outputs": [
    {
     "data": {
      "text/plain": [
       "[{'title': 'Stranger Things',\n",
       "  'broadcasted_on': 'Netflix',\n",
       "  'num_of_seasons': 3,\n",
       "  'Type': 'Drama',\n",
       "  'rate': 7},\n",
       " {'title': '勝手にふるえてろ',\n",
       "  'broadcasted_on': 'Hulu',\n",
       "  'num_of_seasons': None,\n",
       "  'Type': 'Movie',\n",
       "  'rate': 8},\n",
       " {'title': 'Master of Zero',\n",
       "  'broadcasted_on': 'Netflix',\n",
       "  'num_of_seasons': 5,\n",
       "  'Type': 'Drama',\n",
       "  'rate': 9},\n",
       " {'title': 'La La Land',\n",
       "  'broadcasted_on': 'Netflix',\n",
       "  'num_of_seasons': None,\n",
       "  'Type': 'Movie',\n",
       "  'rate': 8},\n",
       " {'title': 'あいのり',\n",
       "  'broadcasted_on': 'Netflix',\n",
       "  'num_of_seasons': 5,\n",
       "  'Type': 'Drama',\n",
       "  'rate': 6},\n",
       " {'title': 'Game of Thrones',\n",
       "  'broadcasted_on': 'Hulu',\n",
       "  'num_of_seasons': 8,\n",
       "  'Type': 'Drama',\n",
       "  'rate': 9},\n",
       " {'title': 'きっとうまくいく',\n",
       "  'broadcasted_on': 'Amazon Prime',\n",
       "  'num_of_seasons': None,\n",
       "  'Type': 'Movie',\n",
       "  'rate': 8}]"
      ]
     },
     "execution_count": 12,
     "metadata": {},
     "output_type": "execute_result"
    }
   ],
   "source": [
    "import json\n",
    "\n",
    "data_dict = json.loads(data)\n",
    "program = {\n",
    "        \"title\": \"きっとうまくいく\",\n",
    "        \"broadcasted_on\": \"Amazon Prime\",\n",
    "        \"num_of_seasons\": None,\n",
    "        \"Type\": \"Movie\",\n",
    "        \"rate\": 8\n",
    "}\n",
    "data_dict['results'].append(program)\n",
    "data_dict['results']"
   ]
  },
  {
   "cell_type": "markdown",
   "metadata": {},
   "source": [
    "#### 解答例の解説\n",
    "Pythonの文法的には問題2までと同様の知識しか使いませんが、データ構造がやや複雑で追加するデータもDictionaryということで迷った方もいたのではないでしょうか。\n",
    "\n",
    "取り扱うデータが複雑な場合には一気に理解しようとしないで、少しずつデータとデータ型を確かめると理解しやすくなると思います。\n",
    "また、最初は難しく感じるかもしれませんが、何らかの情報(今回だと映画やドラマの情報)を表すためのデータ形式というのは基本的なパターンがあります。（今回みたいにListの中にDictionaryを保存したり、Listの中にListを入れたりなど）  \n",
    "\n",
    "ある程度慣れの部分もあると思うので、色々な題材に触れる中で少しずつ慣れていってください:)"
   ]
  },
  {
   "cell_type": "markdown",
   "metadata": {},
   "source": [
    "### 問題4\n",
    "- 引数としてサービス名(Netflix, Huluなど)を受け取って、放送されている番組の一覧を返す関数(Function)を作成してください。また、実際にその関数を使ってHuluで放映されている番組の一覧を表示してください。"
   ]
  },
  {
   "cell_type": "code",
   "execution_count": 18,
   "metadata": {},
   "outputs": [
    {
     "data": {
      "text/plain": [
       "['勝手にふるえてろ', 'Game of Thrones']"
      ]
     },
     "execution_count": 18,
     "metadata": {},
     "output_type": "execute_result"
    }
   ],
   "source": [
    "import json\n",
    "\n",
    "data_dict = json.loads(data)\n",
    "\n",
    "def get_programs_by_service(service):\n",
    "    programs = []\n",
    "    for program in data_dict['results']:\n",
    "        if program['broadcasted_on'] == service:\n",
    "            programs.append(program['title'])\n",
    "            \n",
    "    return programs\n",
    "\n",
    "get_programs_by_service('Hulu')"
   ]
  },
  {
   "cell_type": "markdown",
   "metadata": {},
   "source": [
    "### データを全て表示した場合"
   ]
  },
  {
   "cell_type": "code",
   "execution_count": 28,
   "metadata": {},
   "outputs": [
    {
     "data": {
      "text/plain": [
       "[{'title': '勝手にふるえてろ',\n",
       "  'broadcasted_on': 'Hulu',\n",
       "  'num_of_seasons': None,\n",
       "  'Type': 'Movie',\n",
       "  'rate': 8},\n",
       " {'title': 'Game of Thrones',\n",
       "  'broadcasted_on': 'Hulu',\n",
       "  'num_of_seasons': 8,\n",
       "  'Type': 'Drama',\n",
       "  'rate': 9}]"
      ]
     },
     "execution_count": 28,
     "metadata": {},
     "output_type": "execute_result"
    }
   ],
   "source": [
    "import json\n",
    "\n",
    "data_dict = json.loads(data)\n",
    "\n",
    "def get_programs_by_service(service):\n",
    "    programs = []\n",
    "    for program in data_dict['results']:\n",
    "        if program['broadcasted_on'] == service:\n",
    "            programs.append(program)\n",
    "            \n",
    "    return programs\n",
    "\n",
    "get_programs_by_service('Hulu')"
   ]
  },
  {
   "cell_type": "markdown",
   "metadata": {},
   "source": [
    "#### 解答例の解説\n",
    "関数を作る問題であったため、主に以下の知識が必要でした。\n",
    "\n",
    "- 関数の定義方法\n",
    "- 関数の呼び出し方\n",
    "- 関数への引数の渡し方\n",
    "\n",
    "よく使う処理を関数にまとめていつでも呼び出せるようにしておくというのは、コードの重複を防いだり、コードの可読性を上げてくれるため、保守しやすいコードを作る上で非常に重要な概念です。"
   ]
  },
  {
   "cell_type": "markdown",
   "metadata": {},
   "source": [
    "### 問題5\n",
    "- 引数として映画の情報(title, broadcasted_on, num_of_seasons, type, rate)を受け取って、resultsに追加する関数を作成してください。\n"
   ]
  },
  {
   "cell_type": "code",
   "execution_count": 20,
   "metadata": {},
   "outputs": [],
   "source": [
    "import json\n",
    "\n",
    "data_dict = json.loads(data)\n",
    "\n",
    "def add_program(program):\n",
    "    data_dict['results'].append(program)\n",
    "    \n",
    "    return program"
   ]
  },
  {
   "cell_type": "code",
   "execution_count": 21,
   "metadata": {},
   "outputs": [
    {
     "data": {
      "text/plain": [
       "{'title': 'きっとうまくいく',\n",
       " 'broadcasted_on': 'Amazon Prime',\n",
       " 'num_of_seasons': None,\n",
       " 'Type': 'Movie',\n",
       " 'rate': 8}"
      ]
     },
     "execution_count": 21,
     "metadata": {},
     "output_type": "execute_result"
    }
   ],
   "source": [
    "program = {\n",
    "        \"title\": \"きっとうまくいく\",\n",
    "        \"broadcasted_on\": \"Amazon Prime\",\n",
    "        \"num_of_seasons\": None,\n",
    "        \"Type\": \"Movie\",\n",
    "        \"rate\": 8\n",
    "}\n",
    "add_program(program)"
   ]
  },
  {
   "cell_type": "code",
   "execution_count": 22,
   "metadata": {},
   "outputs": [
    {
     "data": {
      "text/plain": [
       "[{'title': 'きっとうまくいく',\n",
       "  'broadcasted_on': 'Amazon Prime',\n",
       "  'num_of_seasons': None,\n",
       "  'Type': 'Movie',\n",
       "  'rate': 8}]"
      ]
     },
     "execution_count": 22,
     "metadata": {},
     "output_type": "execute_result"
    }
   ],
   "source": [
    "get_programs_by_service('Amazon Prime')"
   ]
  },
  {
   "cell_type": "markdown",
   "metadata": {},
   "source": [
    "#### その他の解決法\n",
    "結果は同じでも解決方法が1つとは限りません。この問題も色々な解き方が可能です。  \n",
    "もう一つの例として、番組情報の各項目を個別に引数として渡す例を紹介します。  \n",
    "\n",
    "※もちろんこの2つだけでなく、他にも解き方はあります。"
   ]
  },
  {
   "cell_type": "code",
   "execution_count": 23,
   "metadata": {},
   "outputs": [],
   "source": [
    "import json\n",
    "\n",
    "data_dict = json.loads(data)\n",
    "\n",
    "def add_program(title, \n",
    "                                broadcasted_on, \n",
    "                                num_of_seasons, \n",
    "                                Type, \n",
    "                                rate):\n",
    "    program = {\n",
    "        'title': title, \n",
    "        'broadcasted_on': broadcasted_on,\n",
    "        'num_of_seasons': num_of_seasons,\n",
    "        'Type': Type,\n",
    "        'rate': rate\n",
    "    }\n",
    "    data_dict['results'].append(program)\n",
    "    \n",
    "    return program"
   ]
  },
  {
   "cell_type": "code",
   "execution_count": 24,
   "metadata": {},
   "outputs": [
    {
     "data": {
      "text/plain": [
       "{'title': 'きっとうまくいく',\n",
       " 'broadcasted_on': 'Amazon Prime',\n",
       " 'num_of_seasons': None,\n",
       " 'Type': 'Movie',\n",
       " 'rate': 8}"
      ]
     },
     "execution_count": 24,
     "metadata": {},
     "output_type": "execute_result"
    }
   ],
   "source": [
    "title = 'きっとうまくいく'\n",
    "broadcasted_on = 'Amazon Prime'\n",
    "num_of_seasons = None\n",
    "Type = 'Movie'\n",
    "rate = 8\n",
    "\n",
    "add_program(title, broadcasted_on, num_of_seasons, Type, rate)"
   ]
  },
  {
   "cell_type": "code",
   "execution_count": 25,
   "metadata": {},
   "outputs": [
    {
     "data": {
      "text/plain": [
       "[{'title': 'きっとうまくいく',\n",
       "  'broadcasted_on': 'Amazon Prime',\n",
       "  'num_of_seasons': None,\n",
       "  'Type': 'Movie',\n",
       "  'rate': 8}]"
      ]
     },
     "execution_count": 25,
     "metadata": {},
     "output_type": "execute_result"
    }
   ],
   "source": [
    "get_programs_by_service('Amazon Prime')"
   ]
  },
  {
   "cell_type": "markdown",
   "metadata": {},
   "source": [
    "#### 解答例の解説\n",
    "引数としてどう渡すかという部分に選択肢が色々あったので苦慮したのではないでしょうか。\n",
    "\n",
    "この例に限りませんが、このやり方がベストだというものがあるわけではないので、<BR>\n",
    "実際にはその時の状況に応じて判断していくことになります。  \n",
    "ぜひ今回の例で自分がそのやり方を選んだ理由と、自分のやり方のイケてる部分、イケテナイ部分について考えてみてください。"
   ]
  },
  {
   "cell_type": "code",
   "execution_count": null,
   "metadata": {},
   "outputs": [],
   "source": []
  }
 ],
 "metadata": {
  "kernelspec": {
   "display_name": "Python 3",
   "language": "python",
   "name": "python3"
  },
  "language_info": {
   "codemirror_mode": {
    "name": "ipython",
    "version": 3
   },
   "file_extension": ".py",
   "mimetype": "text/x-python",
   "name": "python",
   "nbconvert_exporter": "python",
   "pygments_lexer": "ipython3",
   "version": "3.7.2"
  }
 },
 "nbformat": 4,
 "nbformat_minor": 2
}
