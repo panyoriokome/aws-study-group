{
 "cells": [
  {
   "cell_type": "markdown",
   "metadata": {},
   "source": [
    "## Sample: スクレイピング(Scraping)\n",
    "\n",
    "スクレイピングとはWebページ上の情報を取得することです。  \n",
    "こういったデータが欲しいとなった時にAPIが提供されていればAPIを使えば済むのですが、  \n",
    "実際にはWeb上の膨大なデータのうちAPIが提供されているものはごくわずかです。  \n",
    "\n",
    "こういう情報が欲しいけどAPIがない、という場合にはWebページにアクセスして  \n",
    "自分で情報をとってくることができ、これを*スクレイピング(Scraping)*と言います。  \n",
    "\n",
    "### PythonにおけるScraping\n",
    "Pythonではスクレイピングのためのライブラリとして`BeautifulSoup`というものがあります。<BR>\n",
    "これは取得してきたWebページのデータから必要なデータ(例えば、書籍の情報など)を<BR>\n",
    "取り出すための便利な機能を提供してくれます。"
   ]
  },
  {
   "attachments": {},
   "cell_type": "markdown",
   "metadata": {},
   "source": [
    "### 具体例1: 名画座のHPから映画の上映情報を取り出す\n",
    "\n",
    "自分は映画が好きなので、よく行く映画館の情報を自動で取り出せたら便利だと思い、<BR>\n",
    "簡単なサンプルプログラムを作ってみました。<BR>\n",
    "    \n",
    "これだけだと情報をとっただけですが、例えば自分の好みの映画の情報などがあれば、<BR>\n",
    "自分の好きな映画監督の映画が上映された時に自動的に通知を送るなど、色々な活用ができるかもしれません。<BR>\n",
    "なんにせよ、APIが提供されていないこういった情報をデータとして取得できるのがスクレイピングのメリットです。<BR>\n",
    "\n",
    "実際のコードについては、`BeautifulSoup`というライブラリの使い方は覚えなければいけないですが、<BR>\n",
    "それ以外のデータの処理は勉強会で習ったような基本的なPythonの文法しか使っていません。\n",
    "\n",
    "早稲田松竹HP\n",
    "http://wasedashochiku.co.jp/\n"
   ]
  },
  {
   "cell_type": "code",
   "execution_count": 5,
   "metadata": {},
   "outputs": [
    {
     "name": "stdout",
     "output_type": "stream",
     "text": [
      "event_info numbers 8\n",
      "schedules numbers 15\n"
     ]
    }
   ],
   "source": [
    "import requests\n",
    "from bs4 import BeautifulSoup\n",
    "\n",
    "URL = 'http://wasedashochiku.co.jp/'\n",
    "\n",
    "# HTMLの取得\n",
    "response = requests.get(URL)\n",
    "\n",
    "# BeautifulSoupオブジェクトの取得\n",
    "soup = BeautifulSoup(response.text, 'html.parser')\n",
    "\n",
    "# 特集の情報を文字列で抜き出してリストに格納\n",
    "event_info_row = soup.find_all('h3', class_='schedule-title1')\n",
    "print('event_info numbers', len(event_info_row))\n",
    "\n",
    "event_info = []\n",
    "for event_row in event_info_row:\n",
    "    event_info.append(event_row.text)\n",
    "\n",
    "# 特集について、タイトルごとの上映時間を取得\n",
    "schedules = soup.find_all('table', class_='top-schedule-area')\n",
    "print('schedules numbers', len(schedules))\n",
    "\n",
    "movie_info_list = []\n",
    "\n",
    "for schedule in schedules:\n",
    "    # 上映期間を取得\n",
    "    duration = schedule.tr.text\n",
    "\n",
    "    for movie_info in schedule:\n",
    "        # 対象特集の全映画情報を映画ごとにリストに格納\n",
    "        movie_info_html = movie_info.find_all('tr', class_='schedule-item')\n",
    "        \n",
    "        # 映画ごとにタイトルと時間を取得\n",
    "        for info in movie_info_html:\n",
    "            title = info.th.text\n",
    "\n",
    "            time_html = info.find_all('td')\n",
    "            time_list = []\n",
    "            for time in time_html:\n",
    "                time_string = time.text\n",
    "                if time_string:\n",
    "                    time_list.append(time_string)\n",
    "\n",
    "            movie_dict = {\n",
    "                \"duration\":duration,\n",
    "                \"title\":title,\n",
    "                \"time\":time_list\n",
    "            }\n",
    "            movie_info_list.append(movie_dict)\n",
    "\n",
    "result_dict = {}\n",
    "result_dict['site'] = \"早稲田松竹\"\n",
    "result_dict['event_info'] = event_info\n",
    "result_dict['movie_info'] = movie_info_list"
   ]
  },
  {
   "cell_type": "code",
   "execution_count": 6,
   "metadata": {},
   "outputs": [
    {
     "data": {
      "text/plain": [
       "['7/27.sat - 8/2.friイ・チャンドン監督特集',\n",
       " '8/3.sat - 8/9.fri早稲田松竹クラシックスvol.152／アメリカ、時代が変わるとき ～1978年生まれの映画たち～',\n",
       " '8/10.sat - 8/16.friアピチャッポン・ウィーラセタクン監督特集',\n",
       " '8/17.sat - 8/23.fri早稲田松竹クラシックスvol.153／ロバート・フラハティ監督特集 ＋特別レイトショー『リュミエール！』',\n",
       " '8/24.sat - 8/30.friPower of Women\\u3000～魔女たちの狂宴～',\n",
       " '8/31.sat - 9/6.friスポットライトの光と影\\u3000～スクリーンの中の歌姫～',\n",
       " '8/31.sat【オールナイト】ミッドナイト・イン・早稲田松竹vol.14／コーマンを止めるな！～ロジャー・コーマン帝国の逆襲～',\n",
       " '9/7.sat - 9/13.fri『芳華-Youth-』+『さらば、わが愛／覇王別姫』／『初恋のきた道』']"
      ]
     },
     "execution_count": 6,
     "metadata": {},
     "output_type": "execute_result"
    }
   ],
   "source": [
    "result_dict['event_info']"
   ]
  },
  {
   "cell_type": "code",
   "execution_count": 7,
   "metadata": {},
   "outputs": [
    {
     "data": {
      "text/plain": [
       "[{'duration': '7/27(土)・30(火)・8/2(金)上映',\n",
       "  'title': 'オアシス',\n",
       "  'time': ['12:40', '17:45']},\n",
       " {'duration': '7/27(土)・30(火)・8/2(金)上映',\n",
       "  'title': 'バーニング\\u3000劇場版',\n",
       "  'time': ['10:00', '15:05', '20:10～22:40']},\n",
       " {'duration': '7/28(日)・31(水)上映',\n",
       "  'title': 'バーニング\\u3000劇場版',\n",
       "  'time': ['12:35', '17:50']},\n",
       " {'duration': '7/28(日)・31(水)上映',\n",
       "  'title': 'シークレット・サンシャイン',\n",
       "  'time': ['10:00', '15:15', '20:30～22:55']},\n",
       " {'duration': '7/29(月)・8/1(木)上映',\n",
       "  'title': 'シークレット・サンシャイン',\n",
       "  'time': ['12:25', '17:25']},\n",
       " {'duration': '7/29(月)・8/1(木)上映',\n",
       "  'title': 'オアシス',\n",
       "  'time': ['10:00', '15:00', '20:00～22:15']},\n",
       " {'duration': '8/3(土)・8/4(日)上映',\n",
       "  'title': 'ディア・ハンター',\n",
       "  'time': ['12:10', '17:35']},\n",
       " {'duration': '8/3(土)・8/4(日)上映',\n",
       "  'title': 'ラスト・ワルツ',\n",
       "  'time': ['10:00', '15:25', '20:50～22:50']},\n",
       " {'duration': '8/5(月)～8/9(金)上映',\n",
       "  'title': 'ディア・ハンター',\n",
       "  'time': ['10:40', '16:15']},\n",
       " {'duration': '8/5(月)～8/9(金)上映',\n",
       "  'title': 'ラスト・ワルツ',\n",
       "  'time': ['14:00', '19:35～21:35']},\n",
       " {'duration': '8/10(土)～8/16(金)上映',\n",
       "  'title': 'ブンミおじさんの森',\n",
       "  'time': ['12:30', '16:40']},\n",
       " {'duration': '8/10(土)～8/16(金)上映',\n",
       "  'title': '世紀の光',\n",
       "  'time': ['10:30', '14:40', '18:50 ～20:40']},\n",
       " {'duration': '8/10(土)～8/16(金)上映★特別レイトショー',\n",
       "  'title': '真昼の不思議な物体',\n",
       "  'time': ['21:05 ～22:30']},\n",
       " {'duration': '8/17(土)・19(月)・21(水)・23(金)上映',\n",
       "  'title': 'ルイジアナ物語',\n",
       "  'time': ['10:40', '14:00', '17:20']},\n",
       " {'duration': '8/17(土)・19(月)・21(水)・23(金)上映',\n",
       "  'title': 'モアナ 南海の歓喜 サウンド版',\n",
       "  'time': ['12:10', '15:30', '18:50～20:30']},\n",
       " {'duration': '8/18(日)・20(火)・22(木)上映',\n",
       "  'title': 'アラン',\n",
       "  'time': ['11:40', '14:40', '17:40']},\n",
       " {'duration': '8/18(日)・20(火)・22(木)上映',\n",
       "  'title': '極北のナヌーク',\n",
       "  'time': ['10:10', '13:10', '16:10', '19:10～20:30']},\n",
       " {'duration': '8/17(土)～8/23(金)上映★特別レイトショー',\n",
       "  'title': 'リュミエール！',\n",
       "  'time': ['20:55 ～22:25']},\n",
       " {'duration': '8/24(土)～8/30(金)上映',\n",
       "  'title': 'サスペリア',\n",
       "  'time': ['12:45', '17:45']},\n",
       " {'duration': '8/24(土)～8/30(金)上映',\n",
       "  'title': '女王陛下のお気に入り',\n",
       "  'time': ['10:30', '15:30', '20:30～22:35']},\n",
       " {'duration': '8/31(土)上映', 'title': 'ドリームガールズ', 'time': ['12:10', '17:15']},\n",
       " {'duration': '8/31(土)上映',\n",
       "  'title': 'アリー／スター誕生',\n",
       "  'time': ['9:40', '14:45', '19:50★～22:20']},\n",
       " {'duration': '9/1(日)～9/6(金)上映',\n",
       "  'title': 'ドリームガールズ',\n",
       "  'time': ['12:30', '17:35']},\n",
       " {'duration': '9/1(日)～9/6(金)上映',\n",
       "  'title': 'アリー／スター誕生',\n",
       "  'time': ['10:00', '15:05', '20:10★～22:40']},\n",
       " {'duration': '9/7(土)～9/9(月)上映',\n",
       "  'title': 'さらば、わが愛／覇王別姫',\n",
       "  'time': ['10:40', '16:25']},\n",
       " {'duration': '9/7(土)～9/9(月)上映',\n",
       "  'title': '芳華-Youth-',\n",
       "  'time': ['13:50', '19:35 ～21:55']},\n",
       " {'duration': '9/10(火)～9/13(金)上映',\n",
       "  'title': '初恋のきた道',\n",
       "  'time': ['10:20', '14:30', '18:40']},\n",
       " {'duration': '9/10(火)～9/13(金)上映',\n",
       "  'title': '芳華-Youth-',\n",
       "  'time': ['12:00', '16:10', '20:20 ～22:40']}]"
      ]
     },
     "execution_count": 7,
     "metadata": {},
     "output_type": "execute_result"
    }
   ],
   "source": [
    "result_dict['movie_info']"
   ]
  },
  {
   "cell_type": "code",
   "execution_count": null,
   "metadata": {},
   "outputs": [],
   "source": []
  }
 ],
 "metadata": {
  "kernelspec": {
   "display_name": "Python 3",
   "language": "python",
   "name": "python3"
  },
  "language_info": {
   "codemirror_mode": {
    "name": "ipython",
    "version": 3
   },
   "file_extension": ".py",
   "mimetype": "text/x-python",
   "name": "python",
   "nbconvert_exporter": "python",
   "pygments_lexer": "ipython3",
   "version": "3.7.2"
  }
 },
 "nbformat": 4,
 "nbformat_minor": 2
}
