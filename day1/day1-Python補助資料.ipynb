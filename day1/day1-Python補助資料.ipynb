{
 "cells": [
  {
   "cell_type": "markdown",
   "metadata": {},
   "source": [
    "## 1. APIを呼び出す\n",
    "\n",
    "\n",
    "### 1-1. データと値\n",
    "以下のようにして変数を定義して値を代入すると、後から変数名で値にアクセスできます\n"
   ]
  },
  {
   "cell_type": "code",
   "execution_count": 1,
   "metadata": {},
   "outputs": [],
   "source": [
    "name = 'Sakata'\n",
    "age = 24"
   ]
  },
  {
   "cell_type": "code",
   "execution_count": 4,
   "metadata": {},
   "outputs": [
    {
     "name": "stdout",
     "output_type": "stream",
     "text": [
      "Sakata\n"
     ]
    }
   ],
   "source": [
    "print(name)"
   ]
  },
  {
   "cell_type": "code",
   "execution_count": 5,
   "metadata": {},
   "outputs": [
    {
     "name": "stdout",
     "output_type": "stream",
     "text": [
      "24\n"
     ]
    }
   ],
   "source": [
    "print(age)"
   ]
  },
  {
   "cell_type": "markdown",
   "metadata": {},
   "source": [
    "### データ型の確認\n",
    "\n",
    "`type()`を使えば対象のデータの型を確認できる"
   ]
  },
  {
   "cell_type": "code",
   "execution_count": 6,
   "metadata": {},
   "outputs": [
    {
     "data": {
      "text/plain": [
       "str"
      ]
     },
     "execution_count": 6,
     "metadata": {},
     "output_type": "execute_result"
    }
   ],
   "source": [
    "type(name)"
   ]
  },
  {
   "cell_type": "code",
   "execution_count": 7,
   "metadata": {},
   "outputs": [
    {
     "data": {
      "text/plain": [
       "type"
      ]
     },
     "execution_count": 7,
     "metadata": {},
     "output_type": "execute_result"
    }
   ],
   "source": [
    "type(str)"
   ]
  },
  {
   "cell_type": "code",
   "execution_count": 8,
   "metadata": {},
   "outputs": [
    {
     "data": {
      "text/plain": [
       "str"
      ]
     },
     "execution_count": 8,
     "metadata": {},
     "output_type": "execute_result"
    }
   ],
   "source": [
    "type('Sakata')"
   ]
  },
  {
   "cell_type": "code",
   "execution_count": 9,
   "metadata": {},
   "outputs": [
    {
     "data": {
      "text/plain": [
       "int"
      ]
     },
     "execution_count": 9,
     "metadata": {},
     "output_type": "execute_result"
    }
   ],
   "source": [
    "type(24)"
   ]
  },
  {
   "cell_type": "markdown",
   "metadata": {},
   "source": [
    "### 四則演算\n",
    "以下のようにして、通常のプログラミング言語と同様に四則演算を行うことができます。<BR>\n",
    "その他の計算ももちろんできますが、ここでは割愛します。\n"
   ]
  },
  {
   "cell_type": "code",
   "execution_count": 10,
   "metadata": {},
   "outputs": [],
   "source": [
    "a = 10\n",
    "b = 5"
   ]
  },
  {
   "cell_type": "code",
   "execution_count": 12,
   "metadata": {},
   "outputs": [
    {
     "data": {
      "text/plain": [
       "15"
      ]
     },
     "execution_count": 12,
     "metadata": {},
     "output_type": "execute_result"
    }
   ],
   "source": [
    "a + b"
   ]
  },
  {
   "cell_type": "code",
   "execution_count": 13,
   "metadata": {},
   "outputs": [
    {
     "data": {
      "text/plain": [
       "5"
      ]
     },
     "execution_count": 13,
     "metadata": {},
     "output_type": "execute_result"
    }
   ],
   "source": [
    "a - b"
   ]
  },
  {
   "cell_type": "code",
   "execution_count": 14,
   "metadata": {},
   "outputs": [
    {
     "data": {
      "text/plain": [
       "50"
      ]
     },
     "execution_count": 14,
     "metadata": {},
     "output_type": "execute_result"
    }
   ],
   "source": [
    "a * b"
   ]
  },
  {
   "cell_type": "code",
   "execution_count": 16,
   "metadata": {},
   "outputs": [
    {
     "data": {
      "text/plain": [
       "2.0"
      ]
     },
     "execution_count": 16,
     "metadata": {},
     "output_type": "execute_result"
    }
   ],
   "source": [
    "a / b"
   ]
  },
  {
   "cell_type": "markdown",
   "metadata": {},
   "source": [
    "### 練習問題1.  "
   ]
  },
  {
   "cell_type": "markdown",
   "metadata": {},
   "source": [
    "### 1-2. 関数\n",
    "\n",
    "Pythonで自分で関数を定義するには`def`というコマンドを使います。<BR>\n",
    "一度定義した関数は後から何度でも呼び出せるので、<BR>\n",
    "繰り返し使う処理は関数化しておくと便利です。"
   ]
  },
  {
   "cell_type": "code",
   "execution_count": 17,
   "metadata": {},
   "outputs": [],
   "source": [
    "def add(x, y):\n",
    "    return x + y"
   ]
  },
  {
   "cell_type": "code",
   "execution_count": 20,
   "metadata": {},
   "outputs": [],
   "source": [
    "a = 10\n",
    "b = 5\n",
    "result = add(a, b)"
   ]
  },
  {
   "cell_type": "code",
   "execution_count": 21,
   "metadata": {},
   "outputs": [
    {
     "name": "stdout",
     "output_type": "stream",
     "text": [
      "15\n"
     ]
    }
   ],
   "source": [
    "print(result)"
   ]
  },
  {
   "cell_type": "markdown",
   "metadata": {},
   "source": [
    "### その他の関数\n",
    "\n",
    "Pythonにはあらかじめ定義された便利な関数が用意されており、<BR>\n",
    "特別な定義などはせずにそのまま使うことができる。<BR>\n",
    "(組み込み関数(Built-in Functions)と呼ばれる)\n",
    "\n",
    "\n",
    "#### 組み込み関数の具体例\n",
    "- `print()`  \n",
    "対象の値を出力する\n",
    "<BR>\n",
    "\n",
    "\n",
    "- `type()`  \n",
    "対象のデータの型を返す\n",
    "<BR>\n",
    "    \n",
    "- `len()`  \n",
    "文字列や後で出てくるリストの要素数（文字列だったら文字数）を返す\n",
    "<BR>\n",
    "    \n",
    "- `abs()`  \n",
    "対象のデータの絶対値を返す"
   ]
  },
  {
   "cell_type": "code",
   "execution_count": 26,
   "metadata": {},
   "outputs": [
    {
     "data": {
      "text/plain": [
       "int"
      ]
     },
     "execution_count": 26,
     "metadata": {},
     "output_type": "execute_result"
    }
   ],
   "source": [
    "type(a)"
   ]
  },
  {
   "cell_type": "code",
   "execution_count": 27,
   "metadata": {},
   "outputs": [
    {
     "data": {
      "text/plain": [
       "6"
      ]
     },
     "execution_count": 27,
     "metadata": {},
     "output_type": "execute_result"
    }
   ],
   "source": [
    "name = 'Sakata'\n",
    "len(name)"
   ]
  },
  {
   "cell_type": "code",
   "execution_count": 29,
   "metadata": {},
   "outputs": [
    {
     "data": {
      "text/plain": [
       "10"
      ]
     },
     "execution_count": 29,
     "metadata": {},
     "output_type": "execute_result"
    }
   ],
   "source": [
    "c = -10\n",
    "abs(-10)"
   ]
  },
  {
   "cell_type": "markdown",
   "metadata": {},
   "source": [
    "注意点としてそれぞれのメソッドには処理可能なデータ型があり、<BR>\n",
    "処理できないデータ型を渡してもエラーになってしまう。"
   ]
  },
  {
   "cell_type": "code",
   "execution_count": 30,
   "metadata": {},
   "outputs": [
    {
     "ename": "TypeError",
     "evalue": "object of type 'int' has no len()",
     "output_type": "error",
     "traceback": [
      "\u001b[0;31m---------------------------------------------------------------------------\u001b[0m",
      "\u001b[0;31mTypeError\u001b[0m                                 Traceback (most recent call last)",
      "\u001b[0;32m<ipython-input-30-8ddb87effe17>\u001b[0m in \u001b[0;36m<module>\u001b[0;34m\u001b[0m\n\u001b[0;32m----> 1\u001b[0;31m \u001b[0mlen\u001b[0m\u001b[0;34m(\u001b[0m\u001b[0;36m6\u001b[0m\u001b[0;34m)\u001b[0m\u001b[0;34m\u001b[0m\u001b[0m\n\u001b[0m",
      "\u001b[0;31mTypeError\u001b[0m: object of type 'int' has no len()"
     ]
    }
   ],
   "source": [
    "len(6)"
   ]
  },
  {
   "cell_type": "code",
   "execution_count": 31,
   "metadata": {},
   "outputs": [
    {
     "ename": "TypeError",
     "evalue": "bad operand type for abs(): 'str'",
     "output_type": "error",
     "traceback": [
      "\u001b[0;31m---------------------------------------------------------------------------\u001b[0m",
      "\u001b[0;31mTypeError\u001b[0m                                 Traceback (most recent call last)",
      "\u001b[0;32m<ipython-input-31-3ff6888e5108>\u001b[0m in \u001b[0;36m<module>\u001b[0;34m\u001b[0m\n\u001b[0;32m----> 1\u001b[0;31m \u001b[0mabs\u001b[0m\u001b[0;34m(\u001b[0m\u001b[0;34m'Sakata'\u001b[0m\u001b[0;34m)\u001b[0m\u001b[0;34m\u001b[0m\u001b[0m\n\u001b[0m",
      "\u001b[0;31mTypeError\u001b[0m: bad operand type for abs(): 'str'"
     ]
    }
   ],
   "source": [
    "abs('Sakata')"
   ]
  },
  {
   "cell_type": "code",
   "execution_count": null,
   "metadata": {},
   "outputs": [],
   "source": []
  },
  {
   "cell_type": "markdown",
   "metadata": {},
   "source": [
    "### 1-3. オブジェクトとプロパティ"
   ]
  },
  {
   "cell_type": "markdown",
   "metadata": {},
   "source": [
    "## 2. データの作成"
   ]
  },
  {
   "cell_type": "markdown",
   "metadata": {},
   "source": [
    "### 2-1. Dictionary"
   ]
  },
  {
   "cell_type": "code",
   "execution_count": 32,
   "metadata": {},
   "outputs": [],
   "source": [
    "data = {\n",
    "    'name': 'Sakata',\n",
    "    'age': 24\n",
    "}"
   ]
  },
  {
   "cell_type": "code",
   "execution_count": 33,
   "metadata": {},
   "outputs": [
    {
     "data": {
      "text/plain": [
       "'Sakata'"
      ]
     },
     "execution_count": 33,
     "metadata": {},
     "output_type": "execute_result"
    }
   ],
   "source": [
    "data['name']"
   ]
  },
  {
   "cell_type": "code",
   "execution_count": 34,
   "metadata": {},
   "outputs": [
    {
     "data": {
      "text/plain": [
       "24"
      ]
     },
     "execution_count": 34,
     "metadata": {},
     "output_type": "execute_result"
    }
   ],
   "source": [
    "data['age']"
   ]
  },
  {
   "cell_type": "markdown",
   "metadata": {},
   "source": [
    "#### 便利な関数(メソッド)\n",
    "\n",
    "Dictionaryには便利な関数があり、キーの値やバリューの値などををまとめて取得できる"
   ]
  },
  {
   "cell_type": "code",
   "execution_count": 35,
   "metadata": {},
   "outputs": [
    {
     "data": {
      "text/plain": [
       "dict_keys(['name', 'age'])"
      ]
     },
     "execution_count": 35,
     "metadata": {},
     "output_type": "execute_result"
    }
   ],
   "source": [
    "data.keys()"
   ]
  },
  {
   "cell_type": "code",
   "execution_count": 36,
   "metadata": {},
   "outputs": [
    {
     "data": {
      "text/plain": [
       "dict_values(['Sakata', 24])"
      ]
     },
     "execution_count": 36,
     "metadata": {},
     "output_type": "execute_result"
    }
   ],
   "source": [
    "data.values()"
   ]
  },
  {
   "cell_type": "code",
   "execution_count": 37,
   "metadata": {},
   "outputs": [
    {
     "data": {
      "text/plain": [
       "dict_items([('name', 'Sakata'), ('age', 24)])"
      ]
     },
     "execution_count": 37,
     "metadata": {},
     "output_type": "execute_result"
    }
   ],
   "source": [
    "data.items()"
   ]
  },
  {
   "cell_type": "markdown",
   "metadata": {},
   "source": [
    "### 2-2. List"
   ]
  },
  {
   "cell_type": "code",
   "execution_count": 38,
   "metadata": {},
   "outputs": [],
   "source": [
    "data = [1, 2, 3, 4, 5]"
   ]
  },
  {
   "cell_type": "code",
   "execution_count": 41,
   "metadata": {},
   "outputs": [
    {
     "data": {
      "text/plain": [
       "[1, 2, 3, 4, 5]"
      ]
     },
     "execution_count": 41,
     "metadata": {},
     "output_type": "execute_result"
    }
   ],
   "source": [
    "data"
   ]
  },
  {
   "cell_type": "code",
   "execution_count": 39,
   "metadata": {},
   "outputs": [
    {
     "data": {
      "text/plain": [
       "1"
      ]
     },
     "execution_count": 39,
     "metadata": {},
     "output_type": "execute_result"
    }
   ],
   "source": [
    "data[0]"
   ]
  },
  {
   "cell_type": "code",
   "execution_count": 40,
   "metadata": {},
   "outputs": [
    {
     "data": {
      "text/plain": [
       "[1, 2]"
      ]
     },
     "execution_count": 40,
     "metadata": {},
     "output_type": "execute_result"
    }
   ],
   "source": [
    "data[0:2]"
   ]
  },
  {
   "cell_type": "code",
   "execution_count": 42,
   "metadata": {},
   "outputs": [
    {
     "data": {
      "text/plain": [
       "[1, 2, 3]"
      ]
     },
     "execution_count": 42,
     "metadata": {},
     "output_type": "execute_result"
    }
   ],
   "source": [
    "data[0:3]"
   ]
  },
  {
   "cell_type": "markdown",
   "metadata": {},
   "source": [
    "#### 便利な関数(メソッド)\n",
    "\n",
    "Listには`append()`という関数があり、これを使うことで末尾にデータを追加できます。<BR>\n",
    "また、逆にデータを削除するには`pop()`という関数を使います。"
   ]
  },
  {
   "cell_type": "code",
   "execution_count": 43,
   "metadata": {},
   "outputs": [],
   "source": [
    "data = []\n",
    "data.append('Sakata')"
   ]
  },
  {
   "cell_type": "code",
   "execution_count": 44,
   "metadata": {},
   "outputs": [
    {
     "data": {
      "text/plain": [
       "['Sakata']"
      ]
     },
     "execution_count": 44,
     "metadata": {},
     "output_type": "execute_result"
    }
   ],
   "source": [
    "data"
   ]
  },
  {
   "cell_type": "code",
   "execution_count": 45,
   "metadata": {},
   "outputs": [],
   "source": [
    "data.append('Imai')"
   ]
  },
  {
   "cell_type": "code",
   "execution_count": 46,
   "metadata": {},
   "outputs": [
    {
     "data": {
      "text/plain": [
       "['Sakata', 'Imai']"
      ]
     },
     "execution_count": 46,
     "metadata": {},
     "output_type": "execute_result"
    }
   ],
   "source": [
    "data"
   ]
  },
  {
   "cell_type": "code",
   "execution_count": 47,
   "metadata": {},
   "outputs": [
    {
     "data": {
      "text/plain": [
       "'Imai'"
      ]
     },
     "execution_count": 47,
     "metadata": {},
     "output_type": "execute_result"
    }
   ],
   "source": [
    "data.pop()"
   ]
  },
  {
   "cell_type": "code",
   "execution_count": 48,
   "metadata": {},
   "outputs": [
    {
     "data": {
      "text/plain": [
       "['Sakata']"
      ]
     },
     "execution_count": 48,
     "metadata": {},
     "output_type": "execute_result"
    }
   ],
   "source": [
    "data"
   ]
  },
  {
   "cell_type": "markdown",
   "metadata": {},
   "source": [
    "### 2-3. JSONからDictionaryへの変換\n",
    "\n",
    "JSONをDictionaryに変換するには`json`という組み込みモジュールの`loads()`という関数を使います。\n",
    "<BR>\n",
    "この関数は文字列(str)型のJSONデータを受け取って、Dictionaryを返します。"
   ]
  },
  {
   "cell_type": "code",
   "execution_count": 51,
   "metadata": {},
   "outputs": [
    {
     "data": {
      "text/plain": [
       "'{\"message\":\"https:\\\\/\\\\/images.dog.ceo\\\\/breeds\\\\/husky\\\\/n02110185_8600.jpg\",\"status\":\"success\"}'"
      ]
     },
     "execution_count": 51,
     "metadata": {},
     "output_type": "execute_result"
    }
   ],
   "source": [
    "import requests\n",
    "\n",
    "URL = 'https://dog.ceo/api/breeds/image/random'\n",
    "response = requests.get(URL)\n",
    "response.text"
   ]
  },
  {
   "cell_type": "code",
   "execution_count": 52,
   "metadata": {},
   "outputs": [
    {
     "data": {
      "text/plain": [
       "str"
      ]
     },
     "execution_count": 52,
     "metadata": {},
     "output_type": "execute_result"
    }
   ],
   "source": [
    "type(response.text)"
   ]
  },
  {
   "cell_type": "code",
   "execution_count": 53,
   "metadata": {},
   "outputs": [],
   "source": [
    "response_dict = json.loads(response.text)"
   ]
  },
  {
   "cell_type": "code",
   "execution_count": 54,
   "metadata": {},
   "outputs": [
    {
     "data": {
      "text/plain": [
       "{'message': 'https://images.dog.ceo/breeds/husky/n02110185_8600.jpg',\n",
       " 'status': 'success'}"
      ]
     },
     "execution_count": 54,
     "metadata": {},
     "output_type": "execute_result"
    }
   ],
   "source": [
    "response_dict"
   ]
  },
  {
   "cell_type": "code",
   "execution_count": 55,
   "metadata": {},
   "outputs": [
    {
     "data": {
      "text/plain": [
       "dict"
      ]
     },
     "execution_count": 55,
     "metadata": {},
     "output_type": "execute_result"
    }
   ],
   "source": [
    "type(response_dict)"
   ]
  },
  {
   "cell_type": "markdown",
   "metadata": {},
   "source": [
    "データ型がDictionaryになったので、これまでの例と同様にしてほしい値にアクセスできます"
   ]
  },
  {
   "cell_type": "code",
   "execution_count": 56,
   "metadata": {},
   "outputs": [
    {
     "data": {
      "text/plain": [
       "'https://images.dog.ceo/breeds/husky/n02110185_8600.jpg'"
      ]
     },
     "execution_count": 56,
     "metadata": {},
     "output_type": "execute_result"
    }
   ],
   "source": [
    "response_dict['message']"
   ]
  },
  {
   "cell_type": "code",
   "execution_count": 57,
   "metadata": {},
   "outputs": [
    {
     "data": {
      "text/plain": [
       "'success'"
      ]
     },
     "execution_count": 57,
     "metadata": {},
     "output_type": "execute_result"
    }
   ],
   "source": [
    "response_dict['status']"
   ]
  },
  {
   "cell_type": "markdown",
   "metadata": {},
   "source": [
    "### 2-4. 繰り返し\n",
    "\n",
    "Pythonで繰り返し処理を行う方法にはFor LoopとWhileの2つの書き方がありますが、<BR>\n",
    "今回はFor Loopのみを取り扱います。\n",
    "    \n",
    "なお、繰り返し処理を作るにあたって`range()`という便利な関数があるので紹介します。\n",
    "\n",
    "\n"
   ]
  },
  {
   "cell_type": "code",
   "execution_count": 58,
   "metadata": {},
   "outputs": [
    {
     "name": "stdout",
     "output_type": "stream",
     "text": [
      "0\n",
      "1\n",
      "2\n",
      "3\n",
      "4\n",
      "5\n",
      "6\n",
      "7\n",
      "8\n",
      "9\n"
     ]
    }
   ],
   "source": [
    "for i in range(10):\n",
    "    print(i)"
   ]
  },
  {
   "cell_type": "code",
   "execution_count": 59,
   "metadata": {},
   "outputs": [
    {
     "data": {
      "text/plain": [
       "range(0, 10)"
      ]
     },
     "execution_count": 59,
     "metadata": {},
     "output_type": "execute_result"
    }
   ],
   "source": []
  },
  {
   "cell_type": "markdown",
   "metadata": {},
   "source": [
    "#### Listに対する繰り返し\n",
    "ListをFor Loopの対象にするとListの要素の数だけループが行われます。<BR>\n",
    "また、ループの中で対象の値そのものにアクセスできます。"
   ]
  },
  {
   "cell_type": "code",
   "execution_count": 61,
   "metadata": {},
   "outputs": [
    {
     "name": "stdout",
     "output_type": "stream",
     "text": [
      "10\n",
      "20\n",
      "30\n",
      "40\n",
      "50\n"
     ]
    }
   ],
   "source": [
    "numbers = [10, 20, 30, 40, 50]\n",
    "\n",
    "for number in numbers:\n",
    "    print(number)"
   ]
  },
  {
   "cell_type": "markdown",
   "metadata": {},
   "source": [
    "#### Dictionaryに対する繰り返し\n",
    "DictionaryをFor Loopの対象にするとキーの数だけループが行われます。<BR>\n",
    "また、ループの中で対象の値にアクセスするには"
   ]
  },
  {
   "cell_type": "code",
   "execution_count": 31,
   "metadata": {},
   "outputs": [],
   "source": [
    "dict_data = {\n",
    "    'name': 'John',\n",
    "    'age': 24\n",
    "}"
   ]
  },
  {
   "cell_type": "code",
   "execution_count": 44,
   "metadata": {},
   "outputs": [
    {
     "name": "stdout",
     "output_type": "stream",
     "text": [
      "name\n",
      "age\n"
     ]
    }
   ],
   "source": [
    "for key in dict_data:\n",
    "    print(key)"
   ]
  },
  {
   "cell_type": "code",
   "execution_count": 39,
   "metadata": {},
   "outputs": [
    {
     "name": "stdout",
     "output_type": "stream",
     "text": [
      "name\n",
      "age\n"
     ]
    }
   ],
   "source": [
    "# keys()を使ってキーの値をループ\n",
    "for key in dict_data.keys():\n",
    "    print(key)"
   ]
  },
  {
   "cell_type": "code",
   "execution_count": 40,
   "metadata": {},
   "outputs": [
    {
     "name": "stdout",
     "output_type": "stream",
     "text": [
      "John\n",
      "24\n"
     ]
    }
   ],
   "source": [
    "# values()を使ってバリューの値をループ\n",
    "for value in dict_data.values():\n",
    "    print(value)"
   ]
  },
  {
   "cell_type": "code",
   "execution_count": 41,
   "metadata": {},
   "outputs": [
    {
     "name": "stdout",
     "output_type": "stream",
     "text": [
      "name John\n",
      "age 24\n"
     ]
    }
   ],
   "source": [
    "# items()を使ってキーとバリューの値両方をループ\n",
    "for key, value in dict_data.items():\n",
    "    print(key, value)"
   ]
  },
  {
   "cell_type": "markdown",
   "metadata": {},
   "source": [
    "## 宿題\n",
    "\n",
    "NetflixやHuluといったオンライン動画視聴サービスで視聴できる番組の一覧を取得できるAPIがあったとします。<BR>\n",
    "以下にそのAPIの取得結果を文字列(str)形式で保存しましたので、このデータを使って以下の問題を解いてみてください。<BR>\n",
    "    \n",
    "1. Netflixで放映されている番組のみ、タイトルを表示してください。\n",
    "2. 1.の結果をList形式で表示してください。\n",
    "3. resultsのバリューに番組の情報をひとつ追加して、その番組を含むすべての情報を表示してください。追加する番組は架空でも実在でも構いませんが、既存の情報と同じ項目(title, broadcasted_on, num_of_seasons, type, rate)を持たせてください。\n",
    "4. 引数としてサービス名(Netflix, Huluなど)を受け取って、放送されている番組の一覧を返す関数(Function)を作成してください。また、実際にその関数を使ってHuluで放映されている番組の一覧を表示してください。\n",
    "\n",
    "5. 引数として映画の情報(title, broadcasted_on, num_of_seasons, type, rate)を受け取って、resultsに追加する関数を作成してください。\n",
    "\n",
    "\n",
    "#### ヒント\n",
    "\n",
    "問題1:  \n",
    "条件分岐(IF)の判定が必要です。勉強会の中ではやっていないので、以下のページを参考にしてください。\n",
    "\n",
    "https://qiita.com/origer/items/8e2a3df3e043c04f316c\n",
    "\n",
    "問題3:  \n",
    "追加前後の結果イメージは以下のようになっていればいいです。<BR>\n",
    "    (「きっとうまくいく」という映画の情報が追加されている)\n",
    "\n",
    "(追加前)\n",
    "```\n",
    "[\n",
    "        {\n",
    "            \"title\": \"Stranger Things\",\n",
    "            \"broadcasted_on\": \"Netflix\",\n",
    "            \"num_of_seasons\": 3,\n",
    "            \"Type\": \"Drama\",\n",
    "            \"rate\": 7\n",
    "        },\n",
    "        {\n",
    "            \"title\": \"勝手にふるえてろ\",\n",
    "            \"broadcasted_on\": \"Hulu\",\n",
    "            \"num_of_seasons\": null,\n",
    "            \"Type\": \"Movie\",\n",
    "            \"rate\": 8\n",
    "        }\n",
    "]\n",
    "```\n",
    "\n",
    "(追加後)\n",
    "```\n",
    "[\n",
    "        {\n",
    "            \"title\": \"Stranger Things\",\n",
    "            \"broadcasted_on\": \"Netflix\",\n",
    "            \"num_of_seasons\": 3,\n",
    "            \"Type\": \"Drama\",\n",
    "            \"rate\": 7\n",
    "        },\n",
    "        {\n",
    "            \"title\": \"勝手にふるえてろ\",\n",
    "            \"broadcasted_on\": \"Hulu\",\n",
    "            \"num_of_seasons\": 6,\n",
    "            \"Type\": \"Movie\",\n",
    "            \"rate\": 8\n",
    "        },\n",
    "        {\n",
    "            \"title\": \"きっとうまくいく\",\n",
    "            \"broadcasted_on\": \"Amazon Prime\",\n",
    "            \"num_of_seasons\": null,\n",
    "            \"Type\": \"Movie\",\n",
    "            \"rate\": 8\n",
    "        }\n",
    "]\n",
    "```"
   ]
  },
  {
   "cell_type": "code",
   "execution_count": 72,
   "metadata": {},
   "outputs": [],
   "source": [
    "data = \"\"\"{\n",
    "    \"date\": \"2019-07-29T19:30:03.283Z\",\n",
    "    \"results\": [\n",
    "        {\n",
    "            \"title\": \"Stranger Things\",\n",
    "            \"broadcasted_on\": \"Netflix\",\n",
    "            \"num_of_seasons\": 3,\n",
    "            \"Type\": \"Drama\",\n",
    "            \"rate\": 7\n",
    "        },\n",
    "        {\n",
    "            \"title\": \"勝手にふるえてろ\",\n",
    "            \"broadcasted_on\": \"Hulu\",\n",
    "            \"num_of_seasons\": null,\n",
    "            \"Type\": \"Movie\",\n",
    "            \"rate\": 8\n",
    "        },\n",
    "        {\n",
    "            \"title\": \"Master of Zero\",\n",
    "            \"broadcasted_on\": \"Netflix\",\n",
    "            \"num_of_seasons\": 5,\n",
    "            \"Type\": \"Drama\",\n",
    "            \"rate\": 9\n",
    "        },\n",
    "        {\n",
    "            \"title\": \"La La Land\",\n",
    "            \"broadcasted_on\": \"Netflix\",\n",
    "            \"num_of_seasons\": null,\n",
    "            \"Type\": \"Movie\",\n",
    "            \"rate\": 8\n",
    "        },\n",
    "        {\n",
    "            \"title\": \"あいのり\",\n",
    "            \"broadcasted_on\": \"Netflix\",\n",
    "            \"num_of_seasons\": 5,\n",
    "            \"Type\": \"Drama\",\n",
    "            \"rate\": 6\n",
    "        },\n",
    "        {\n",
    "            \"title\": \"Game of Thrones\",\n",
    "            \"broadcasted_on\": \"Hulu\",\n",
    "            \"num_of_seasons\": 8,\n",
    "            \"Type\": \"Drama\",\n",
    "            \"rate\": 9\n",
    "        }\n",
    "    ]\n",
    "}\n",
    "\"\"\""
   ]
  },
  {
   "cell_type": "code",
   "execution_count": null,
   "metadata": {},
   "outputs": [],
   "source": []
  }
 ],
 "metadata": {
  "kernelspec": {
   "display_name": "Python 3",
   "language": "python",
   "name": "python3"
  },
  "language_info": {
   "codemirror_mode": {
    "name": "ipython",
    "version": 3
   },
   "file_extension": ".py",
   "mimetype": "text/x-python",
   "name": "python",
   "nbconvert_exporter": "python",
   "pygments_lexer": "ipython3",
   "version": "3.6.6"
  }
 },
 "nbformat": 4,
 "nbformat_minor": 2
}
